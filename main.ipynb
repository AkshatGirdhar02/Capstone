{
 "cells": [
  {
   "attachments": {},
   "cell_type": "markdown",
   "metadata": {},
   "source": [
    "## Capstone Project.."
   ]
  },
  {
   "cell_type": "code",
   "execution_count": null,
   "metadata": {},
   "outputs": [],
   "source": [
    "# importing libraries and modules\n",
    "import pandas as pd\n",
    "import random"
   ]
  },
  {
   "cell_type": "code",
   "execution_count": null,
   "metadata": {},
   "outputs": [],
   "source": [
    "# speech engine\n",
    "import pyttsx3\n",
    "import speech_recognition as sr\n",
    "\n",
    "\n",
    "engine=pyttsx3.init('sapi5') #use nsss for mac\n",
    "voice=engine.getProperty('voices')\n",
    "engine.setProperty('voice',voice[1].id)\n",
    "engine.setProperty('volume',1.0)\n",
    "engine.setProperty('rate',150)\n",
    "\n",
    "def speak(audio):\n",
    "    engine.say(audio)\n",
    "    engine.runAndWait()\n",
    "    \n",
    "def record_answer():\n",
    "    r=sr.Recognizer()\n",
    "    with sr.Microphone() as source:\n",
    "        r.pause_threshold=0.8\n",
    "        r.energy_threshold=100\n",
    "        print(\"\\a\")\n",
    "        audio=r.listen(source)\n",
    "\n",
    "    try:\n",
    "            print(\"listening\")\n",
    "            ans=r.recognize_google(audio,language='en-GB')\n",
    "            print(ans)\n",
    "    except Exception as e:\n",
    "            return \"None\"\n",
    "    return ans\n",
    "\n",
    "record_answer()"
   ]
  },
  {
   "cell_type": "code",
   "execution_count": null,
   "metadata": {},
   "outputs": [],
   "source": [
    "def trueFalse():\n",
    "    # dataset integration\n",
    "    speak(\"Please speak true or false only\")\n",
    "    df=pd.read_csv(\"dataset/trueFalse.csv\")\n",
    "    noOfQues=df.shape[0]\n",
    "    quesBank=random.sample(range(noOfQues),2)\n",
    "    print(quesBank)\n",
    "    for i in quesBank:\n",
    "        speak(df.iloc[i][0])\n",
    "        actualAns=df.iloc[i][1]\n",
    "        ans=record_answer()\n",
    "        if(ans==str(actualAns).lower()):\n",
    "            speak(\"correct\")\n",
    "        elif(ans !=None):\n",
    "            speak(\"incorrect\")\n",
    "        else:\n",
    "            speak(\"No answer received\")"
   ]
  },
  {
   "cell_type": "code",
   "execution_count": null,
   "metadata": {},
   "outputs": [],
   "source": [
    "def oneWord():\n",
    "    speak(\"Please answer in one word\")\n",
    "    df=pd.read_csv(\"dataset/oneWord.csv\")\n",
    "    noOfQues=df.shape[0]\n",
    "    quesBank=random.sample(range(noOfQues),2)\n",
    "    print(quesBank)\n",
    "    for i in quesBank:\n",
    "        speak(df.iloc[i][0])\n",
    "        actualAns=df.iloc[i][1]\n",
    "        ans=record_answer()\n",
    "        if(ans==str(actualAns).lower()):\n",
    "            speak(\"correct\")\n",
    "        elif(ans !=None):\n",
    "            speak(\"incorrect\")\n",
    "        else:\n",
    "            speak(\"No answer received\")\n",
    "    "
   ]
  },
  {
   "cell_type": "code",
   "execution_count": null,
   "metadata": {},
   "outputs": [],
   "source": [
    "def mcq():\n",
    "    df=pd.read_csv(\"dataset/mcq.csv\")\n",
    "    noOfQues=df.shape[0]\n",
    "    quesBank=random.sample(range(noOfQues),1)\n",
    "    print(quesBank)\n",
    "    speak(\"Please only speak the option in terms of option A option B option C option D\")\n",
    "    for i in quesBank:\n",
    "        speak(df.iloc[i][0])\n",
    "        speak(\"Option A\")\n",
    "        speak(df.iloc[i][1])\n",
    "        speak(\"Option B\")\n",
    "        speak(df.iloc[i][2])\n",
    "        speak(\"Option C\")\n",
    "        speak(df.iloc[i][3])\n",
    "        speak(\"Option D\")\n",
    "        speak(df.iloc[i][4])\n",
    "        actualAns=df.iloc[i][5]\n",
    "        ans=record_answer()\n",
    "        if(ans[-1].lower()==str(actualAns).lower()):\n",
    "            print(ans[-1].lower())\n",
    "            speak(\"correct\")\n",
    "        else:\n",
    "            print(ans[-1].lower())\n",
    "            speak(\"incorrect\")"
   ]
  },
  {
   "cell_type": "code",
   "execution_count": null,
   "metadata": {},
   "outputs": [],
   "source": [
    "if __name__==\"__main__\":\n",
    "    speak(\"welcome to the test environment\")\n",
    "    mcq()\n",
    "    trueFalse()\n",
    "    oneWord()\n"
   ]
  }
 ],
 "metadata": {
  "kernelspec": {
   "display_name": "Python 3",
   "language": "python",
   "name": "python3"
  },
  "language_info": {
   "codemirror_mode": {
    "name": "ipython",
    "version": 3
   },
   "file_extension": ".py",
   "mimetype": "text/x-python",
   "name": "python",
   "nbconvert_exporter": "python",
   "pygments_lexer": "ipython3",
   "version": "3.9.7"
  },
  "orig_nbformat": 4
 },
 "nbformat": 4,
 "nbformat_minor": 2
}
