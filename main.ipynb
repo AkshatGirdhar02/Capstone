{
 "cells": [
  {
   "attachments": {},
   "cell_type": "markdown",
   "metadata": {},
   "source": [
    "## Capstone Project.."
   ]
  },
  {
   "cell_type": "code",
   "execution_count": 8,
   "metadata": {},
   "outputs": [],
   "source": [
    "# importing libraries and modules\n",
    "import pandas as pd\n",
    "import random"
   ]
  },
  {
   "cell_type": "code",
   "execution_count": 9,
   "metadata": {},
   "outputs": [
    {
     "name": "stdout",
     "output_type": "stream",
     "text": [
      "\u0007\n",
      "listening\n"
     ]
    },
    {
     "data": {
      "text/plain": [
       "'None'"
      ]
     },
     "execution_count": 9,
     "metadata": {},
     "output_type": "execute_result"
    }
   ],
   "source": [
    "# speech engine\n",
    "import pyttsx3\n",
    "import speech_recognition as sr\n",
    "\n",
    "\n",
    "engine=pyttsx3.init('sapi5') #use nsss for mac\n",
    "voice=engine.getProperty('voices')\n",
    "engine.setProperty('voice',voice[1].id)\n",
    "engine.setProperty('volume',1.0)\n",
    "engine.setProperty('rate',150)\n",
    "\n",
    "def speak(audio):\n",
    "    engine.say(audio)\n",
    "    engine.runAndWait()\n",
    "    \n",
    "def record_answer():\n",
    "    r=sr.Recognizer()\n",
    "    with sr.Microphone() as source:\n",
    "        r.pause_threshold=0.8\n",
    "        r.energy_threshold=100\n",
    "        print(\"\\a\")\n",
    "        audio=r.listen(source)\n",
    "\n",
    "    try:\n",
    "            print(\"listening\")\n",
    "            ans=r.recognize_google(audio,language='en-GB')\n",
    "            print(ans)\n",
    "    except Exception as e:\n",
    "            return \"None\"\n",
    "    return ans\n",
    "\n",
    "record_answer()"
   ]
  },
  {
   "cell_type": "code",
   "execution_count": 10,
   "metadata": {},
   "outputs": [],
   "source": [
    "def trueFalse():\n",
    "    # dataset integration\n",
    "    speak(\"Please speak true or false only\")\n",
    "    df=pd.read_csv(\"dataset/trueFalse.csv\")\n",
    "    noOfQues=df.shape[0]\n",
    "    quesBank=random.sample(range(noOfQues),2)\n",
    "    print(quesBank)\n",
    "    for i in quesBank:\n",
    "        speak(df.iloc[i][0])\n",
    "        actualAns=df.iloc[i][1]\n",
    "        ans=record_answer()\n",
    "        if(ans==str(actualAns).lower()):\n",
    "            speak(\"correct\")\n",
    "        elif(ans !=None):\n",
    "            speak(\"incorrect\")\n",
    "        else:\n",
    "            speak(\"No answer received\")"
   ]
  },
  {
   "cell_type": "code",
   "execution_count": 11,
   "metadata": {},
   "outputs": [],
   "source": [
    "def oneWord():\n",
    "    speak(\"Please answer in one word\")\n",
    "    df=pd.read_csv(\"dataset/oneWord.csv\")\n",
    "    noOfQues=df.shape[0]\n",
    "    quesBank=random.sample(range(noOfQues),2)\n",
    "    print(quesBank)\n",
    "    for i in quesBank:\n",
    "        speak(df.iloc[i][0])\n",
    "        actualAns=df.iloc[i][1]\n",
    "        ans=record_answer()\n",
    "        if(ans==str(actualAns).lower()):\n",
    "            speak(\"correct\")\n",
    "        elif(ans !=None):\n",
    "            speak(\"incorrect\")\n",
    "        else:\n",
    "            speak(\"No answer received\")\n",
    "    "
   ]
  },
  {
   "cell_type": "code",
   "execution_count": 14,
   "metadata": {},
   "outputs": [],
   "source": [
    "def mcq():\n",
    "    df=pd.read_csv(\"dataset/mcq.csv\")\n",
    "    noOfQues=df.shape[0]\n",
    "    quesBank=random.sample(range(noOfQues),1)\n",
    "    print(quesBank)\n",
    "    speak(\"Please only speak the option in terms of option A option B option C option D\")\n",
    "    for i in quesBank:\n",
    "        speak(df.iloc[i][0])\n",
    "        speak(\"Option A\")\n",
    "        speak(df.iloc[i][1])\n",
    "        speak(\"Option B\")\n",
    "        speak(df.iloc[i][2])\n",
    "        speak(\"Option C\")\n",
    "        speak(df.iloc[i][3])\n",
    "        speak(\"Option D\")\n",
    "        speak(df.iloc[i][4])\n",
    "        actualAns=df.iloc[i][5]\n",
    "        ans=record_answer()\n",
    "        if(ans[-1].lower()==str(actualAns).lower()):\n",
    "            print(ans[-1].lower())\n",
    "            speak(\"correct\")\n",
    "        else:\n",
    "            print(ans[-1].lower())\n",
    "            speak(\"incorrect\")"
   ]
  },
  {
   "cell_type": "code",
   "execution_count": 15,
   "metadata": {},
   "outputs": [
    {
     "name": "stdout",
     "output_type": "stream",
     "text": [
      "[5]\n"
     ]
    },
    {
     "ename": "TypeError",
     "evalue": "speak() takes 1 positional argument but 2 were given",
     "output_type": "error",
     "traceback": [
      "\u001b[1;31m---------------------------------------------------------------------------\u001b[0m",
      "\u001b[1;31mTypeError\u001b[0m                                 Traceback (most recent call last)",
      "\u001b[1;32md:\\#coding\\capstone_project\\main.ipynb Cell 7\u001b[0m in \u001b[0;36m<module>\u001b[1;34m\u001b[0m\n\u001b[0;32m      <a href='vscode-notebook-cell:/d%3A/%23coding/capstone_project/main.ipynb#W6sZmlsZQ%3D%3D?line=0'>1</a>\u001b[0m \u001b[39mif\u001b[39;00m \u001b[39m__name__\u001b[39m\u001b[39m==\u001b[39m\u001b[39m\"\u001b[39m\u001b[39m__main__\u001b[39m\u001b[39m\"\u001b[39m:\n\u001b[0;32m      <a href='vscode-notebook-cell:/d%3A/%23coding/capstone_project/main.ipynb#W6sZmlsZQ%3D%3D?line=1'>2</a>\u001b[0m     speak(\u001b[39m\"\u001b[39m\u001b[39mwelcome to the test environment\u001b[39m\u001b[39m\"\u001b[39m)\n\u001b[1;32m----> <a href='vscode-notebook-cell:/d%3A/%23coding/capstone_project/main.ipynb#W6sZmlsZQ%3D%3D?line=2'>3</a>\u001b[0m     mcq()\n\u001b[0;32m      <a href='vscode-notebook-cell:/d%3A/%23coding/capstone_project/main.ipynb#W6sZmlsZQ%3D%3D?line=3'>4</a>\u001b[0m     trueFalse()\n\u001b[0;32m      <a href='vscode-notebook-cell:/d%3A/%23coding/capstone_project/main.ipynb#W6sZmlsZQ%3D%3D?line=4'>5</a>\u001b[0m     oneWord()\n",
      "\u001b[1;32md:\\#coding\\capstone_project\\main.ipynb Cell 7\u001b[0m in \u001b[0;36mmcq\u001b[1;34m()\u001b[0m\n\u001b[0;32m      <a href='vscode-notebook-cell:/d%3A/%23coding/capstone_project/main.ipynb#W6sZmlsZQ%3D%3D?line=5'>6</a>\u001b[0m speak(\u001b[39m\"\u001b[39m\u001b[39mPlease only speak the option in terms of option A option B option C option D\u001b[39m\u001b[39m\"\u001b[39m)\n\u001b[0;32m      <a href='vscode-notebook-cell:/d%3A/%23coding/capstone_project/main.ipynb#W6sZmlsZQ%3D%3D?line=6'>7</a>\u001b[0m \u001b[39mfor\u001b[39;00m i \u001b[39min\u001b[39;00m quesBank:\n\u001b[1;32m----> <a href='vscode-notebook-cell:/d%3A/%23coding/capstone_project/main.ipynb#W6sZmlsZQ%3D%3D?line=7'>8</a>\u001b[0m     speak(df\u001b[39m.\u001b[39;49miloc[i][\u001b[39m0\u001b[39;49m],\u001b[39m\"\u001b[39;49m\u001b[39mOption A\u001b[39;49m\u001b[39m\"\u001b[39;49m)\n\u001b[0;32m      <a href='vscode-notebook-cell:/d%3A/%23coding/capstone_project/main.ipynb#W6sZmlsZQ%3D%3D?line=8'>9</a>\u001b[0m     \u001b[39m# speak(\"Option A\")\u001b[39;00m\n\u001b[0;32m     <a href='vscode-notebook-cell:/d%3A/%23coding/capstone_project/main.ipynb#W6sZmlsZQ%3D%3D?line=9'>10</a>\u001b[0m     speak(df\u001b[39m.\u001b[39miloc[i][\u001b[39m1\u001b[39m])\n",
      "\u001b[1;31mTypeError\u001b[0m: speak() takes 1 positional argument but 2 were given"
     ]
    }
   ],
   "source": [
    "if __name__==\"__main__\":\n",
    "    speak(\"welcome to the test environment\")\n",
    "    mcq()\n",
    "    trueFalse()\n",
    "    oneWord()\n"
   ]
  }
 ],
 "metadata": {
  "kernelspec": {
   "display_name": "Python 3",
   "language": "python",
   "name": "python3"
  },
  "language_info": {
   "codemirror_mode": {
    "name": "ipython",
    "version": 3
   },
   "file_extension": ".py",
   "mimetype": "text/x-python",
   "name": "python",
   "nbconvert_exporter": "python",
   "pygments_lexer": "ipython3",
   "version": "3.9.7"
  },
  "orig_nbformat": 4
 },
 "nbformat": 4,
 "nbformat_minor": 2
}
